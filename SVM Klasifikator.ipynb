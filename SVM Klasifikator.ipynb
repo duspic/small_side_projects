{
 "cells": [
  {
   "cell_type": "code",
   "execution_count": null,
   "source": [
    "\r\n",
    "                                            ## SVM KLASIFIKATOR ##    \r\n",
    "    "
   ],
   "outputs": [],
   "metadata": {}
  },
  {
   "cell_type": "code",
   "execution_count": 1,
   "source": [
    "\r\n",
    "# importamo librarye\r\n",
    "import numpy as np\r\n",
    "import matplotlib.pyplot as plt\r\n",
    "import pandas as pd\r\n",
    "\r\n",
    "\r\n",
    "# importamo dataset, razdvojimo u x i y, pa onda u trening i validacijski skup podataka\r\n",
    "from sklearn.datasets import load_iris\r\n",
    "podaci = load_iris()\r\n",
    "\r\n",
    "x = podaci.data\r\n",
    "y = podaci.target\r\n",
    "\r\n",
    "\r\n",
    "from sklearn.model_selection import train_test_split\r\n",
    "x_train, x_test, y_train, y_test = train_test_split(x,y,test_size = 0.25)\r\n",
    "\r\n",
    "\r\n",
    "##############################################################################################################\r\n",
    "\r\n",
    "# treniranje klasifikatora\r\n",
    "from sklearn.svm import SVC\r\n",
    "svclassifier = SVC(kernel = 'linear')\r\n",
    "svclassifier.fit(x_train, y_train)\r\n",
    "\r\n",
    "# predviđanje novih rezultata\r\n",
    "y_pred = svclassifier.predict(x_test)\r\n",
    "\r\n",
    "# prikazivanje rezultata pomoću classifier_reporta\r\n",
    "\r\n",
    "from sklearn.metrics import classification_report\r\n",
    "report = classification_report(y_test, y_pred)\r\n",
    "print(report)"
   ],
   "outputs": [
    {
     "output_type": "stream",
     "name": "stdout",
     "text": [
      "              precision    recall  f1-score   support\n",
      "\n",
      "           0       1.00      1.00      1.00        15\n",
      "           1       1.00      1.00      1.00        13\n",
      "           2       1.00      1.00      1.00        10\n",
      "\n",
      "    accuracy                           1.00        38\n",
      "   macro avg       1.00      1.00      1.00        38\n",
      "weighted avg       1.00      1.00      1.00        38\n",
      "\n"
     ]
    }
   ],
   "metadata": {}
  },
  {
   "cell_type": "code",
   "execution_count": null,
   "source": [
    "## ovo je ispalo sumnjivo jednostavno"
   ],
   "outputs": [],
   "metadata": {}
  }
 ],
 "metadata": {
  "kernelspec": {
   "name": "python3",
   "display_name": "Python 3.8.5 64-bit ('base': conda)"
  },
  "language_info": {
   "codemirror_mode": {
    "name": "ipython",
    "version": 3
   },
   "file_extension": ".py",
   "mimetype": "text/x-python",
   "name": "python",
   "nbconvert_exporter": "python",
   "pygments_lexer": "ipython3",
   "version": "3.8.5"
  },
  "interpreter": {
   "hash": "7aa797ccb11c896481922d4e581ac0a69100cbabd0d866e632dcf9ea0b0943dd"
  }
 },
 "nbformat": 4,
 "nbformat_minor": 5
}