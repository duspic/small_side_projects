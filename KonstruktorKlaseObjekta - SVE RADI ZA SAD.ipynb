{
 "cells": [
  {
   "cell_type": "code",
   "execution_count": 1,
   "metadata": {},
   "outputs": [],
   "source": [
    "\n",
    "                                              ## KONSTRUKTOR KLASE ##\n",
    "    "
   ]
  },
  {
   "cell_type": "code",
   "execution_count": 2,
   "metadata": {},
   "outputs": [],
   "source": [
    "\n",
    "\n"
   ]
  },
  {
   "cell_type": "code",
   "execution_count": 1,
   "metadata": {},
   "outputs": [],
   "source": [
    "def razdvoji_u_dict_par(keyValue):\n",
    "    if ',' not in keyValue:\n",
    "        return {keyValue : ''}\n",
    "    lista = keyValue.split(',')\n",
    "    return {lista[0] : lista[1]}\n",
    "\n",
    "    \n",
    "def ispis_podataka(dictKonstruktor):\n",
    "    print('\\n' + dictKonstruktor[\"__name__\"])\n",
    "    for key in dictKonstruktor.keys():\n",
    "        if key[0] == '_':\n",
    "            continue\n",
    "        \n",
    "        if dictKonstruktor[key] != '':\n",
    "            value = dictKonstruktor[key]\n",
    "            print('    ' + key + ' : ' + value)\n",
    "        \n",
    "        else:\n",
    "            print('    ' + key)\n",
    "            \n",
    "def unos_podataka(dictKonstruktor):\n",
    "    \n",
    "    print(\"Upisujte nazive i defaultne vrijednosti parametara odvojene zarezom\\nDefaultnu vrijednost možete ostaviti praznom\")\n",
    "    print(\"Za izlaz upišite 0 umjesto imena parametra\")\n",
    "    \n",
    "    while True:\n",
    "        parametarVrijednost = input(\"Unesite ime parametra i default vrijednost: \")\n",
    "        if parametarVrijednost == '0':\n",
    "            break\n",
    "        \n",
    "        dictKonstruktor.update(razdvoji_u_dict_par(parametarVrijednost))\n",
    "    \n",
    "    ispis_podataka(dictKonstruktor)\n",
    "    \n",
    "          \n",
    "def printaj(self):\n",
    "    string = 'ime : '+str(self.__name__) + \"\\n\"\n",
    "    \n",
    "    for key,value in self.__dict__.items():\n",
    "        if key[0] != '_' :\n",
    "            string += str(key) +' : '+ str(value) + \"\\n\"\n",
    "\n",
    "    return string\n",
    "\n",
    "def klasni_init(self):\n",
    "    \n",
    "    for key,value in globals()[self.klasa].__dict__.items():\n",
    "        self.__dict__[key] = value\n",
    "    for element in self.__dict__ :\n",
    "        \n",
    "        if element[0] != '_' and element != 'klasa':\n",
    "            unos = input(\"Unesite vrijednost za parametar %s: \" %element)\n",
    "            if unos != '':\n",
    "                exec(\"self.%s = '%s'\"%(element,unos))\n",
    "                exec('print(\"u parametar %s unesena je vrijednost %s\" %(element, unos))')\n",
    "                print()\n",
    "            \n",
    "    \n",
    "def _setter(self, imeParametra, vrijednostParametra):\n",
    "    \n",
    "    #stavimo dodatne navodnike na vrijednostParametra, kako bi exec čitao to kao string vrijednost umjesto kao naziv varijable!\n",
    "    vrijednostParametra = '\"'+vrijednostParametra+'\"'\n",
    "    exec(\"%s.%s = %s\"%(self,imeParametra,vrijednostParametra))\n",
    "    \n",
    "    print(\"u parametar %s postavljena je vrijednost %s\" %(imeParametra, vrijednostParametra))\n",
    "\n",
    "    \n",
    "def konstruktorKlase():\n",
    "    dictKonstruktor = {}\n",
    "    dictKonstruktor[\"__name__\"] = input(\"Unesite ime klase: \")\n",
    "    dictKonstruktor[\"__init__\"] = klasni_init\n",
    "    dictKonstruktor[\"__str__\"] = printaj\n",
    "    dictKonstruktor[\"_setter\"] = _setter\n",
    "    dictKonstruktor[\"klasa\"] = dictKonstruktor[\"__name__\"]\n",
    "\n",
    "    \n",
    "    unos_podataka(dictKonstruktor)\n",
    "    \n",
    "    \n",
    "    globals()[dictKonstruktor[\"__name__\"]] = type(str([dictKonstruktor[\"__name__\"]]), (object,), dict(dictKonstruktor.items()))\n",
    "    print(globals()[dictKonstruktor[\"__name__\"]])\n",
    "    print(\"Klasa %s je uspješno napravljena!\\n\" %dictKonstruktor[\"__name__\"])\n",
    "    \n",
    "    return dictKonstruktor[\"__name__\"]\n",
    "    "
   ]
  },
  {
   "cell_type": "code",
   "execution_count": 2,
   "metadata": {},
   "outputs": [],
   "source": [
    " \n",
    "                                             ## KONSTRUKTOR OBJEKTA ## \n",
    "        "
   ]
  },
  {
   "cell_type": "code",
   "execution_count": 3,
   "metadata": {},
   "outputs": [],
   "source": [
    "def konstruktorObjekta(imeKlase):\n",
    "    \n",
    "    imeObjekta = input(\"Unesite ime objekta: \")\n",
    "    \n",
    "    if type(imeKlase) == str:\n",
    "        globals()[imeObjekta] = globals()[imeKlase]()\n",
    "    else:\n",
    "        globals()[imeObjekta] = imeKlase()\n",
    "    \n",
    "    globals()[imeObjekta].__name__ = imeObjekta\n",
    "\n",
    "   \n"
   ]
  },
  {
   "cell_type": "code",
   "execution_count": 11,
   "metadata": {},
   "outputs": [],
   "source": [
    "# za probu - konstruiraj klasu, konstruiraj objekt, printaj objekt\n"
   ]
  },
  {
   "cell_type": "code",
   "execution_count": 4,
   "metadata": {},
   "outputs": [
    {
     "name": "stdout",
     "output_type": "stream",
     "text": [
      "Unesite ime klase: Vodozemac\n",
      "Upisujte nazive i defaultne vrijednosti parametara odvojene zarezom\n",
      "Defaultnu vrijednost možete ostaviti praznom\n",
      "Za izlaz upišite 0 umjesto imena parametra\n",
      "Unesite ime parametra i default vrijednost: brojNogu,4\n",
      "Unesite ime parametra i default vrijednost: staniste,slatkovodno\n",
      "Unesite ime parametra i default vrijednost: ugrozenost\n",
      "Unesite ime parametra i default vrijednost: 0\n",
      "\n",
      "Vodozemac\n",
      "    klasa : Vodozemac\n",
      "    brojNogu : 4\n",
      "    staniste : slatkovodno\n",
      "    ugrozenost\n",
      "<class '__main__.['Vodozemac']'>\n",
      "Klasa Vodozemac je uspješno napravljena!\n",
      "\n"
     ]
    },
    {
     "data": {
      "text/plain": [
       "'Vodozemac'"
      ]
     },
     "execution_count": 4,
     "metadata": {},
     "output_type": "execute_result"
    }
   ],
   "source": [
    "# konstruiraj klasu\n",
    "konstruktorKlase()"
   ]
  },
  {
   "cell_type": "code",
   "execution_count": 5,
   "metadata": {},
   "outputs": [
    {
     "name": "stdout",
     "output_type": "stream",
     "text": [
      "Unesite ime objekta: žaba\n",
      "Unesite vrijednost za parametar brojNogu: 4\n",
      "u parametar brojNogu unesena je vrijednost 4\n",
      "\n",
      "Unesite vrijednost za parametar staniste: \n",
      "Unesite vrijednost za parametar ugrozenost: ugrozeno\n",
      "u parametar ugrozenost unesena je vrijednost ugrozeno\n",
      "\n"
     ]
    }
   ],
   "source": [
    "# konstruiraj objekt\n",
    "konstruktorObjekta(Vodozemac)"
   ]
  },
  {
   "cell_type": "code",
   "execution_count": 6,
   "metadata": {},
   "outputs": [
    {
     "name": "stdout",
     "output_type": "stream",
     "text": [
      "ime : žaba\n",
      "klasa : Vodozemac\n",
      "brojNogu : 4\n",
      "staniste : slatkovodno\n",
      "ugrozenost : ugrozeno\n",
      "\n"
     ]
    }
   ],
   "source": [
    "# ispiši atribute objekta\n",
    "print(žaba)"
   ]
  },
  {
   "cell_type": "code",
   "execution_count": null,
   "metadata": {},
   "outputs": [],
   "source": []
  }
 ],
 "metadata": {
  "kernelspec": {
   "display_name": "Python 3",
   "language": "python",
   "name": "python3"
  },
  "language_info": {
   "codemirror_mode": {
    "name": "ipython",
    "version": 3
   },
   "file_extension": ".py",
   "mimetype": "text/x-python",
   "name": "python",
   "nbconvert_exporter": "python",
   "pygments_lexer": "ipython3",
   "version": "3.8.5"
  }
 },
 "nbformat": 4,
 "nbformat_minor": 4
}
