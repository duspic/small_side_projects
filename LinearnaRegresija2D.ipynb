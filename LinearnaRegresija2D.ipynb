{
 "cells": [
  {
   "cell_type": "code",
   "execution_count": 22,
   "source": [
    "\r\n",
    "class LinearnaRegresija2D:\r\n",
    "\r\n",
    "    def __init__(self):\r\n",
    "        self.x = 0\r\n",
    "        self.y = 0\r\n",
    "\r\n",
    "    # error\r\n",
    "    def fit(self, x, y, error):\r\n",
    "        self.x = x\r\n",
    "        self.y = y\r\n",
    "        \r\n",
    "        # PRIPAZI NA POSTOJANOST PODATKA\r\n",
    "        if x.size == 0 or y.size == 0:\r\n",
    "            print(\"Prazni podaci\")\r\n",
    "            return 0\r\n",
    "        \r\n",
    "        if len(x)!=len(y):\r\n",
    "            print(\"X i Y nisu iste duljine\")\r\n",
    "            return 0\r\n",
    "        \r\n",
    "        else:\r\n",
    "            \r\n",
    "            # POBRINE SE DA SU OBOJE np.array\r\n",
    "            tip = type(x)\r\n",
    "            if str(tip) != \"<class 'numpy.ndarray'>\":\r\n",
    "                x = np.array(x)\r\n",
    "            \r\n",
    "            tip = type(y)\r\n",
    "            if str(tip) != \"<class 'numpy.ndarray'>\":\r\n",
    "                y = np.array(y)\r\n",
    "            \r\n",
    "            \r\n",
    "\r\n",
    "            \r\n",
    "            # PRONAĐE SREDIŠNJU TOČKU (x1,y1) I ONDA TRAŽI SJECIŠTE S Y OSI (0,y0) I NAGIB\r\n",
    "          \r\n",
    "            self.sredisnjaTocka = (x.mean(),y.mean())\r\n",
    "            \r\n",
    "            self.rekurzivna(error = error)\r\n",
    "\r\n",
    "\r\n",
    "\r\n",
    "    def rekurzivna(self, error, najmanjaUdaljenost = 99999999, zbrojUdaljenosti = 0, korak = 20, od = 0, do = 180, nagib = 0, y0 = None, novi_od = 0):\r\n",
    "\r\n",
    "    ## funkcionira na principu rundi s 9-10 iteracija po rundi\r\n",
    "    ## rekurzivno pozivamo funkciju, podižući joj početnu vrijednost raspona unutar runde, sve dok se raspon ne obavi do kraja\r\n",
    "    ## zatim prelazimo na sljedeću rundu, u kojoj suzimo raspon i smanjimo korak.\r\n",
    "    ## na taj način na početku podijelimo 360 stupnjeva na 9 pravaca, gledamo koji je najbolje pasao\r\n",
    "    ## dalje, podijelimo 40 stupnjeva na 10 pravaca, gledamo koji je najbolje pasao\r\n",
    "    ## dalje podijelimo 4 stupnja na 10 pravaca...\r\n",
    "\r\n",
    "\r\n",
    "    ## Runde:\r\n",
    "\r\n",
    "    # np.arrange(od,do,korak)\r\n",
    "\r\n",
    "    # prva runda (0,180,20) - traži mean_sqr_err pravca s kutem alpha = 0\r\n",
    "    #   pozove sljedeću iteraciju s parametrima (20,180,20) te traži mean_sqr_err pravca s kutem alpha = 20\r\n",
    "    #   pozove sljedeću iteraciju s parametrima (40,180,20) te traži mean_sqr_err pravca s kutem alpha = 40\r\n",
    "    #   . . .\r\n",
    "    #   nađe najbolji nagib recimo 60. od = 60-(20/2). do = 60+(20/2)\r\n",
    "\r\n",
    "    # druga runda (50,70,2)\r\n",
    "    #   nađe najbolji nagib recimo 68. od = 68-(2/2). do = 68+(20/2)\r\n",
    "\r\n",
    "    # treca runda (67,69,0.2)\r\n",
    "    #   nađe najbolji nagib recimo 68.04. od = 68.04-(0.2/2). do = 68.04+(0.2/2)\r\n",
    "\r\n",
    "    # cetvrta runda (68.03,68.05,0.02)...\r\n",
    "\r\n",
    "\r\n",
    "    ## KRAJNJI NAM JE CILJ DOBITI y0, nagib i mean_abs_err. KAKO BI MOGLI PLOTATI GRAF, TE PROCIJENITI I USPOREDITI GREŠKU\r\n",
    "        if korak < 0.000001:\r\n",
    "            self.y0 = y0\r\n",
    "            self.nagib = nagib\r\n",
    "            self.mean_err = najmanjaUdaljenost/len(self.x)\r\n",
    "            return 1\r\n",
    "\r\n",
    "        \r\n",
    "        ## ako je završilo s trenutnim rasponom, odi u sljedeću rundu \r\n",
    "        if od >= do:\r\n",
    "            od = novi_od-korak/2\r\n",
    "            do = novi_od+korak/2\r\n",
    "            korak /= 10\r\n",
    "            \r\n",
    "            # od range(180,180,20) i nagib = 50, napravi range(40,60,2) itd.\r\n",
    "            # od range(40,60,2) i nagib = 51, napravi range(50,52,0.2)\r\n",
    "            return self.rekurzivna(error = error, najmanjaUdaljenost = najmanjaUdaljenost, od = od, do = do, korak = korak, nagib = nagib,y0 = y0)\r\n",
    "\r\n",
    "        \r\n",
    "        \r\n",
    "        ## inače nastavljamo dalje s kodom, tražimo najmanje apsolutne udaljenosti i iteriramo\r\n",
    "\r\n",
    "        # skupimo elemente potrebne za jednadžbu pravca. (y = alpha*x + y0)\r\n",
    "\r\n",
    "                # jednadžba za alpha je čudnovata, bolje funkcionira ovako. više nisam ni siguran zašto ali ovako odradi puniji spektar kruga\r\n",
    "        alpha = (od*math.pi)/180\r\n",
    "        b = self.sredisnjaTocka[1] - alpha*self.sredisnjaTocka[0]\r\n",
    "\r\n",
    "        # pomoću njih izračunamo zbroj udaljenosti svih točaka (x,y) od pravca. Udaljenost računamo samo po y osi, jer su im X vrijednosti iste!\r\n",
    "        for i in range(len(self.x)):\r\n",
    "\r\n",
    "            # prema dobivenoj jednadžbi pravca saznamo naš y za zadani x\r\n",
    "            y1 = self.x[i] * alpha + b\r\n",
    "\r\n",
    "            if error == 'abs':\r\n",
    "                udaljenost = abs(self.y[i] - y1)\r\n",
    "            elif error == 'sqr':\r\n",
    "                udaljenost = (self.y[i] - y1)**2\r\n",
    "            zbrojUdaljenosti += udaljenost\r\n",
    "\r\n",
    "        \r\n",
    "        if zbrojUdaljenosti <= najmanjaUdaljenost:\r\n",
    "            nagib = alpha\r\n",
    "            najmanjaUdaljenost = zbrojUdaljenosti\r\n",
    "            y0 = b\r\n",
    "            novi_od = od\r\n",
    "            \r\n",
    "        \r\n",
    "\r\n",
    "        ## pošto nije završilo s trenutnim rasponom, iteriraj dalje\r\n",
    "\r\n",
    "        return self.rekurzivna(error = error, najmanjaUdaljenost = najmanjaUdaljenost, od = od+korak, do = do, korak = korak, nagib = nagib, y0 = y0,novi_od = novi_od)\r\n",
    "\r\n",
    "\r\n",
    "\r\n",
    "\r\n",
    "    def predict(self,X):\r\n",
    "        y_pred = [x*self.nagib + self.y0 for x in X]\r\n",
    "        return y_pred\r\n",
    "            "
   ],
   "outputs": [],
   "metadata": {}
  },
  {
   "cell_type": "code",
   "execution_count": 3,
   "source": [
    "\r\n",
    "\r\n",
    "\r\n",
    "\r\n",
    "                                                                    ## TU POSTAVIMO POTREBITE STVARI ##\r\n",
    "\r\n",
    "import numpy as np\r\n",
    "import math\r\n",
    "import matplotlib.pyplot as plt\r\n",
    "from sklearn.linear_model import LinearRegression\r\n",
    "from sklearn.metrics import mean_absolute_error, mean_squared_error\r\n",
    "from random import randint\r\n",
    "\r\n",
    "clfMoj = LinearnaRegresija2D()\r\n",
    "\r\n",
    "clfPravi = LinearRegression()\r\n",
    "\r\n",
    "\r\n",
    "\r\n",
    "\r\n",
    "\r\n",
    "\r\n",
    "\r\n"
   ],
   "outputs": [],
   "metadata": {}
  },
  {
   "cell_type": "code",
   "execution_count": 26,
   "source": [
    "\r\n",
    "\r\n",
    "\r\n",
    "                                                                        ##  PRVI TEST ##\r\n",
    "\r\n",
    "# testiramo i plotamo rezultate nad nekim brojem točaka, oslanjajući se na mjerilo mean_absolute_error\r\n",
    "\r\n",
    "def test1(range_x=(-1000,1000), range_y=(-1000,1000), num_points=100):\r\n",
    "\r\n",
    "    x = np.array([randint(range_x[0],range_x[1]) for x in range(num_points)])\r\n",
    "    y = np.array([randint(range_y[0],range_y[1]) for x in range(num_points)])\r\n",
    "\r\n",
    "    clfPravi.fit(np.array(x).reshape(-1,1),np.array(y).reshape(-1,1))\r\n",
    "    clfMoj.fit(x,y,error = 'abs')\r\n",
    "\r\n",
    "\r\n",
    "    y_pred_pravi = clfPravi.predict(np.array(x).reshape(-1,1))\r\n",
    "    y_pred_moj = clfMoj.predict(x)\r\n",
    "\r\n",
    "    plt.figure(figsize=(12,12))\r\n",
    "    plt.scatter(x,y,color = 'green')\r\n",
    "    plt.scatter(x.mean(),y.mean(), color = 'blue')\r\n",
    "    plt.plot(x,y_pred_pravi,color = 'red')\r\n",
    "    plt.plot(x,y_pred_moj,color = 'blue')\r\n",
    "    plt.legend([\"pravi regresor\",\"moj regresor\", \"točke\", \"srednja točka\"])\r\n",
    "    plt.show()\r\n",
    "\r\n",
    "\r\n",
    "    pravi_error = mean_absolute_error(y,y_pred_pravi)\r\n",
    "    moj_error = mean_absolute_error(y,y_pred_moj)\r\n",
    "\r\n",
    "    print(\"pravi error:\",pravi_error)\r\n",
    "    print(\"moj error\", moj_error)\r\n",
    "\r\n",
    "test1()"
   ],
   "outputs": [
    {
     "output_type": "display_data",
     "data": {
      "image/png": "[encoded data removed]",
      "text/plain": [
       "<Figure size 864x864 with 1 Axes>"
      ]
     },
     "metadata": {
      "needs_background": "light"
     }
    },
    {
     "output_type": "stream",
     "name": "stdout",
     "text": [
      "pravi error: 478.0359656621812\n",
      "moj error 475.8722662934247\n"
     ]
    }
   ],
   "metadata": {}
  },
  {
   "cell_type": "code",
   "execution_count": 30,
   "source": [
    "\r\n",
    "\r\n",
    "\r\n",
    "                                                                        ##  DRUGI TEST ##\r\n",
    "\r\n",
    "## u ovome nećemo plotati već samo gledati rezultate mean_absolute_error, usporediti ih i vidjeti tko je postigao manju grešku\r\n",
    "## ako je moj regresor imao manju grešku, funkcija vraća 1\r\n",
    "\r\n",
    "def test2(range_x=(-1000,1000), range_y=(-1000,1000), num_points=100):\r\n",
    "    \r\n",
    "    x = np.array([randint(range_x[0],range_x[1]) for x in range(num_points)])\r\n",
    "    y = np.array([randint(range_y[0],range_y[1]) for x in range(num_points)])\r\n",
    "\r\n",
    "    clfPravi.fit(np.array(x).reshape(-1,1),np.array(y).reshape(-1,1))\r\n",
    "    clfMoj.fit(x,y,error = 'abs')\r\n",
    "\r\n",
    "    y_pred_pravi = clfPravi.predict(np.array(x).reshape(-1,1))\r\n",
    "    y_pred_moj = clfMoj.predict(x)\r\n",
    "\r\n",
    "\r\n",
    "    pravi_error = mean_absolute_error(y,y_pred_pravi)\r\n",
    "    moj_error = mean_absolute_error(y,y_pred_moj)\r\n",
    "\r\n",
    "    #print(\"pravi error:\",pravi_error)\r\n",
    "    #print(\"moj error\", moj_error)\r\n",
    "\r\n",
    "    if pravi_error > moj_error:\r\n",
    "        return 1\r\n",
    "    else:\r\n",
    "        return 0\r\n",
    "\r\n",
    "test2()"
   ],
   "outputs": [
    {
     "output_type": "execute_result",
     "data": {
      "text/plain": [
       "1"
      ]
     },
     "metadata": {},
     "execution_count": 30
    }
   ],
   "metadata": {}
  },
  {
   "cell_type": "code",
   "execution_count": 5,
   "source": [
    "\r\n",
    "                                                                            ## TEST 3 ##\r\n",
    "\r\n",
    "#Iterirat ćemo 1000 puta kroz prošli test, bez printanja radi čitkosti. Zbrajat ćemo rezultate, svaki put kad je moj regresor pobjedio, dobiva bod\r\n",
    "# na kraju možemo zbrojeni rezultat podjeliti s brojem iteracija i dobiti postotak uspješnosti!\r\n",
    "\r\n",
    "# na 1000 iteracija potraje, imaj strpljenja\r\n",
    "\r\n",
    "rezultat = 0\r\n",
    "brojIteracija = 1000\r\n",
    "\r\n",
    "for i in range(brojIteracija):\r\n",
    "    rezultat += test2()    \r\n",
    "\r\n",
    "print(rezultat/brojIteracija)                                         "
   ],
   "outputs": [
    {
     "output_type": "stream",
     "name": "stdout",
     "text": [
      "0.972\n"
     ]
    }
   ],
   "metadata": {}
  },
  {
   "cell_type": "code",
   "execution_count": 42,
   "source": [
    "\r\n",
    "# this is a test providing an option to choose betweeen mean sqr err and mean abs err\r\n",
    "def test3(range_x=(-1000,1000), range_y=(-1000,1000), num_points=100, err = 'abs'):\r\n",
    "\r\n",
    "    # generate random points (x,y)\r\n",
    "    x = np.array([randint(range_x[0],range_x[1]) for x in range(num_points)])\r\n",
    "    y = np.array([randint(range_y[0],range_y[1]) for x in range(num_points)])\r\n",
    "\r\n",
    "    clfPravi.fit(np.array(x).reshape(-1,1),np.array(y).reshape(-1,1))\r\n",
    "    y_pred_pravi = clfPravi.predict(np.array(x).reshape(-1,1))\r\n",
    "\r\n",
    "    # mean_squared_err\r\n",
    "    if err == 'sqr':\r\n",
    "\r\n",
    "        clfMoj.fit(x,y,error = 'sqr')\r\n",
    "        y_pred_moj = clfMoj.predict(x)\r\n",
    "\r\n",
    "        pravi_error = mean_squared_error(y,y_pred_pravi)\r\n",
    "        moj_error = mean_squared_error(y,y_pred_moj)\r\n",
    "\r\n",
    "    # mean_absolute_err\r\n",
    "    elif err == 'abs':\r\n",
    "\r\n",
    "        clfMoj.fit(x,y,error = 'abs')\r\n",
    "        y_pred_moj = clfMoj.predict(x)\r\n",
    "\r\n",
    "        pravi_error = mean_absolute_error(y,y_pred_pravi)\r\n",
    "        moj_error = mean_absolute_error(y,y_pred_moj)\r\n",
    "\r\n",
    "\r\n",
    "    if pravi_error > moj_error:\r\n",
    "        return 1\r\n",
    "    else:\r\n",
    "        return 0\r\n",
    "\r\n",
    "\r\n",
    "test3(err = 'abs')"
   ],
   "outputs": [
    {
     "output_type": "execute_result",
     "data": {
      "text/plain": [
       "1"
      ]
     },
     "metadata": {},
     "execution_count": 42
    }
   ],
   "metadata": {}
  },
  {
   "cell_type": "code",
   "execution_count": 44,
   "source": [
    "## krenimo ispočetka, i odvrtimo nekoliko slučajeva za mean_sqr_err i mean_abs_err\r\n",
    "\r\n",
    "rezultat = 0\r\n",
    "brojIteracija = 100\r\n",
    "\r\n",
    "for i in range(brojIteracija):\r\n",
    "    rezultat += test3(err = 'abs')\r\n",
    "\r\n",
    "print('s obzirom na mjerilo mean_absolute_error; od %d ponavljanja, moja je klasa bila jednaka ili bolja %d puta'%(brojIteracija,rezultat))    \r\n",
    "\r\n",
    "\r\n",
    "\r\n",
    "rezultat = 0\r\n",
    "brojIteracija = 100\r\n",
    "\r\n",
    "for i in range(brojIteracija):\r\n",
    "    rezultat += test3(err = 'sqr')    \r\n",
    "\r\n",
    "print('s obzirom na mjerilo mean_squared_error; od %d ponavljanja, moja je klasa bila jednaka ili bolja %d puta'%(brojIteracija,rezultat))    \r\n"
   ],
   "outputs": [
    {
     "output_type": "stream",
     "name": "stdout",
     "text": [
      "s obzirom na mjerilo mean_absolute_error; od 100 ponavljanja, moja je klasa bila jednaka ili bolja 97 puta\n",
      "s obzirom na mjerilo mean_squared_error; od 100 ponavljanja, moja je klasa bila jednaka ili bolja 15 puta\n"
     ]
    }
   ],
   "metadata": {}
  },
  {
   "cell_type": "code",
   "execution_count": 45,
   "source": [
    "# može se zaključiti kako je SciKit Learn prilagodio svoj program mjerilu mean_squared_error"
   ],
   "outputs": [],
   "metadata": {}
  },
  {
   "cell_type": "code",
   "execution_count": null,
   "source": [],
   "outputs": [],
   "metadata": {}
  }
 ],
 "metadata": {
  "kernelspec": {
   "name": "python3",
   "display_name": "Python 3.8.5 64-bit ('base': conda)"
  },
  "language_info": {
   "codemirror_mode": {
    "name": "ipython",
    "version": 3
   },
   "file_extension": ".py",
   "mimetype": "text/x-python",
   "name": "python",
   "nbconvert_exporter": "python",
   "pygments_lexer": "ipython3",
   "version": "3.8.5"
  },
  "interpreter": {
   "hash": "7aa797ccb11c896481922d4e581ac0a69100cbabd0d866e632dcf9ea0b0943dd"
  }
 },
 "nbformat": 4,
 "nbformat_minor": 5
}